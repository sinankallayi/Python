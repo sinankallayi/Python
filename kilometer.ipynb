{
 "cells": [
  {
   "cell_type": "code",
   "execution_count": 1,
   "id": "a3506131",
   "metadata": {},
   "outputs": [
    {
     "name": "stdout",
     "output_type": "stream",
     "text": [
      "Kilometer to miles\n",
      "Enter the Kilometer1\n",
      "Miles =  0.621371\n"
     ]
    }
   ],
   "source": [
    "print(\"Kilometer to miles\")\n",
    "a=float(input(\"Enter the Kilometer\"))\n",
    "b=(a*0.621371)\n",
    "print(\"Miles = \",b)"
   ]
  },
  {
   "cell_type": "code",
   "execution_count": null,
   "id": "04922626",
   "metadata": {},
   "outputs": [],
   "source": []
  },
  {
   "cell_type": "code",
   "execution_count": null,
   "id": "b92222a2",
   "metadata": {},
   "outputs": [],
   "source": []
  }
 ],
 "metadata": {
  "kernelspec": {
   "display_name": "Python 3 (ipykernel)",
   "language": "python",
   "name": "python3"
  },
  "language_info": {
   "codemirror_mode": {
    "name": "ipython",
    "version": 3
   },
   "file_extension": ".py",
   "mimetype": "text/x-python",
   "name": "python",
   "nbconvert_exporter": "python",
   "pygments_lexer": "ipython3",
   "version": "3.11.4"
  }
 },
 "nbformat": 4,
 "nbformat_minor": 5
}
