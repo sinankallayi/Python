{
 "cells": [
  {
   "cell_type": "code",
   "execution_count": 1,
   "id": "acc512a0",
   "metadata": {},
   "outputs": [
    {
     "name": "stdout",
     "output_type": "stream",
     "text": [
      "Kilometer to miles\n",
      "Enter the Kilometer:1\n",
      "Miles =  0.621371\n"
     ]
    }
   ],
   "source": [
    "#Kilometer to miles\n",
    "print(\"Kilometer to miles\")\n",
    "a=float(input(\"Enter the Kilometer:\"))\n",
    "b=(a*0.621371)\n",
    "print(\"Miles = \",b)"
   ]
  },
  {
   "cell_type": "code",
   "execution_count": 2,
   "id": "b5648614",
   "metadata": {},
   "outputs": [
    {
     "name": "stdout",
     "output_type": "stream",
     "text": [
      "Biggest of two number\n",
      "Enter the first number:5\n",
      "Enter the second number:6\n",
      "Greatest number is  6\n"
     ]
    }
   ],
   "source": [
    "#Biggest of two number\n",
    "print(\"Biggest of two number\")\n",
    "a=int(input(\"Enter the first number:\"))\n",
    "b=int(input(\"Enter the second number:\"))\n",
    "if a<b:\n",
    "    print(\"Greatest number is \",b)\n",
    "else:\n",
    "    print(\"Greatest number is \",a)"
   ]
  },
  {
   "cell_type": "code",
   "execution_count": 3,
   "id": "1289fb27",
   "metadata": {},
   "outputs": [
    {
     "name": "stdout",
     "output_type": "stream",
     "text": [
      "Celsius to Fahrenheit\n",
      "Enter the degree celsius:0\n",
      "The fahrenheit is  32.0\n"
     ]
    }
   ],
   "source": [
    "#Celsius to Fahrenheit\n",
    "print(\"Celsius to Fahrenheit\")\n",
    "a=int(input(\"Enter the degree celsius:\"))\n",
    "f=(a*9/5)+32\n",
    "print(\"The fahrenheit is \",f)"
   ]
  },
  {
   "cell_type": "code",
   "execution_count": 5,
   "id": "2cf78d10",
   "metadata": {},
   "outputs": [
    {
     "name": "stdout",
     "output_type": "stream",
     "text": [
      "Area of circle\n",
      "Enter the Radius of the circle:2\n",
      "The area of circle is =  13\n"
     ]
    }
   ],
   "source": [
    "#Area of circle\n",
    "print(\"Area of circle\")\n",
    "from math import pi\n",
    "a=float(input(\"Enter the Radius of the circle:\"))\n",
    "area=round(pi*a*a)\n",
    "print(\"The area of circle is = \",area)"
   ]
  },
  {
   "cell_type": "code",
   "execution_count": null,
   "id": "5b9a351e",
   "metadata": {},
   "outputs": [],
   "source": []
  }
 ],
 "metadata": {
  "kernelspec": {
   "display_name": "Python 3 (ipykernel)",
   "language": "python",
   "name": "python3"
  },
  "language_info": {
   "codemirror_mode": {
    "name": "ipython",
    "version": 3
   },
   "file_extension": ".py",
   "mimetype": "text/x-python",
   "name": "python",
   "nbconvert_exporter": "python",
   "pygments_lexer": "ipython3",
   "version": "3.11.4"
  }
 },
 "nbformat": 4,
 "nbformat_minor": 5
}
