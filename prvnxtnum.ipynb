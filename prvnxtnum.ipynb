{
 "cells": [
  {
   "cell_type": "code",
   "execution_count": 1,
   "id": "1df5d439",
   "metadata": {},
   "outputs": [
    {
     "name": "stdout",
     "output_type": "stream",
     "text": [
      "Enter a Interger number:5\n",
      "Number = 5\n",
      "Previous number = 4\n",
      "Next number = 6\n"
     ]
    }
   ],
   "source": [
    "a=int(input(\"Enter a Interger number:\"))\n",
    "print(\"Number =\",a)\n",
    "prvnum=a-1\n",
    "nxtnum=a+1\n",
    "print(\"Previous number =\",prvnum)\n",
    "print(\"Next number =\",nxtnum)"
   ]
  },
  {
   "cell_type": "code",
   "execution_count": null,
   "id": "231780f5",
   "metadata": {},
   "outputs": [],
   "source": []
  }
 ],
 "metadata": {
  "kernelspec": {
   "display_name": "Python 3 (ipykernel)",
   "language": "python",
   "name": "python3"
  },
  "language_info": {
   "codemirror_mode": {
    "name": "ipython",
    "version": 3
   },
   "file_extension": ".py",
   "mimetype": "text/x-python",
   "name": "python",
   "nbconvert_exporter": "python",
   "pygments_lexer": "ipython3",
   "version": "3.11.4"
  }
 },
 "nbformat": 4,
 "nbformat_minor": 5
}
