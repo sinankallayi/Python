{
 "cells": [
  {
   "cell_type": "code",
   "execution_count": 3,
   "id": "3683b5dd",
   "metadata": {},
   "outputs": [
    {
     "name": "stdout",
     "output_type": "stream",
     "text": [
      "Enter numbers seperated by commas:1,2,3,4,5\n",
      "Tuple= ('1', '2', '3', '4', '5')\n",
      "Reversed= ('5', '4', '3', '2', '1')\n"
     ]
    }
   ],
   "source": [
    "#Reverse of a Tuple\n",
    "t=tuple(input(\"Enter numbers seperated by commas:\").split(\",\"))\n",
    "print(\"Tuple=\",t)\n",
    "reverse=reversed(t)\n",
    "result=tuple(reverse)\n",
    "print(\"Reversed=\",result)"
   ]
  },
  {
   "cell_type": "code",
   "execution_count": 4,
   "id": "e4a39827",
   "metadata": {},
   "outputs": [
    {
     "name": "stdout",
     "output_type": "stream",
     "text": [
      "Enter Number seperated by comas:5,3,7\n",
      "Tuples ('5', '3', '7')\n",
      "Average Value of the Number in Given Tuple : 5.0\n"
     ]
    }
   ],
   "source": [
    "#Average of Tuple\n",
    "t=tuple(input(\"Enter Number seperated by comas:\").split(\",\"))\n",
    "print(\"Tuples\",t)\n",
    "l=len(t)\n",
    "c=0\n",
    "for i in range(l):\n",
    "    c=int(t[i])+c\n",
    "    avg=c/l\n",
    "print(\"Average Value of the Number in Given Tuple :\",avg)"
   ]
  },
  {
   "cell_type": "code",
   "execution_count": 3,
   "id": "bfe93567",
   "metadata": {},
   "outputs": [
    {
     "name": "stdout",
     "output_type": "stream",
     "text": [
      "Enter Number seperated by commas:1,2,3,4,4\n",
      "Tuples ('1', '2', '3', '4', '4')\n",
      "Enter the item to be removed:4\n",
      "('1', '2', '3')\n"
     ]
    }
   ],
   "source": [
    "#Remove an item from Tuple\n",
    "t=tuple(input(\"Enter Number seperated by commas:\").split(\",\"))\n",
    "tn=list(t)\n",
    "print(\"Tuples\",t)\n",
    "d=input(\"Enter the item to be removed:\")\n",
    "for x in t:\n",
    "    if d in x:\n",
    "        tn.remove(x)\n",
    "        result=tuple(tn)\n",
    "print(result)"
   ]
  },
  {
   "cell_type": "code",
   "execution_count": 5,
   "id": "8bb46142",
   "metadata": {},
   "outputs": [
    {
     "name": "stdout",
     "output_type": "stream",
     "text": [
      "Enter Number seperated by commas:1,2,3,4,5,6,7\n",
      "Tuples ('1', '2', '3', '4', '5', '6', '7')\n",
      "3rd element in tuple : 3\n",
      "3rd last element in tuple : 5\n"
     ]
    }
   ],
   "source": [
    "#third and 3rd last element of tuple\n",
    "t=tuple(input(\"Enter Number seperated by commas:\").split(\",\"))\n",
    "print(\"Tuples\",t)\n",
    "print(\"3rd element in tuple :\",t[2])\n",
    "print(\"3rd last element in tuple :\",t[-3])"
   ]
  },
  {
   "cell_type": "code",
   "execution_count": null,
   "id": "8d31f657",
   "metadata": {},
   "outputs": [],
   "source": []
  }
 ],
 "metadata": {
  "kernelspec": {
   "display_name": "Python 3 (ipykernel)",
   "language": "python",
   "name": "python3"
  },
  "language_info": {
   "codemirror_mode": {
    "name": "ipython",
    "version": 3
   },
   "file_extension": ".py",
   "mimetype": "text/x-python",
   "name": "python",
   "nbconvert_exporter": "python",
   "pygments_lexer": "ipython3",
   "version": "3.11.4"
  }
 },
 "nbformat": 4,
 "nbformat_minor": 5
}
