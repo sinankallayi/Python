{
 "cells": [
  {
   "cell_type": "code",
   "execution_count": 15,
   "id": "40ffd662",
   "metadata": {},
   "outputs": [
    {
     "name": "stdout",
     "output_type": "stream",
     "text": [
      "Enter your String:APPLE\n",
      "The resulting string is: EPPLA\n"
     ]
    }
   ],
   "source": [
    "#Exchange first and last character\n",
    "s=str(input(\"Enter your String:\"))\n",
    "a=s[0]\n",
    "b=s[-1]\n",
    "print(\"The resulting string is:\",b+s[1:-1]+a)"
   ]
  },
  {
   "cell_type": "code",
   "execution_count": 9,
   "id": "1f5313aa",
   "metadata": {},
   "outputs": [
    {
     "name": "stdout",
     "output_type": "stream",
     "text": [
      "Enter your String :APPLE\n",
      "The resulting string is: APLE\n"
     ]
    }
   ],
   "source": [
    "#Interchange first and last\n",
    "s=str(input(\"Enter your String :\"))\n",
    "a=s[0:2]\n",
    "b=s[-2:]\n",
    "print(\"The resulting string is:\",a+s[-2:])"
   ]
  },
  {
   "cell_type": "code",
   "execution_count": 14,
   "id": "b614d522",
   "metadata": {},
   "outputs": [
    {
     "name": "stdout",
     "output_type": "stream",
     "text": [
      "Enter the first string:hello\n",
      "Enter the second string:world\n",
      "The resulting string is: wollo  herld\n"
     ]
    }
   ],
   "source": [
    "#swap first two characters of two string\n",
    "s1=str(input(\"Enter the first string:\"))\n",
    "s2=str(input(\"Enter the second string:\"))\n",
    "a=s1[0:2]\n",
    "b=s2[0:2]\n",
    "print(\"The resulting string is:\",b+s1[2:],\"\",a+s2[2:])"
   ]
  },
  {
   "cell_type": "code",
   "execution_count": 17,
   "id": "acfb9a6b",
   "metadata": {},
   "outputs": [
    {
     "name": "stdout",
     "output_type": "stream",
     "text": [
      "Enter the string:ONION\n",
      "New String is : ONI$N\n"
     ]
    }
   ],
   "source": [
    "#Replace occurance of first character to $\n",
    "s=str(input(\"Enter the string:\"))\n",
    "a=s[0]\n",
    "b=s[1:]\n",
    "st=b.replace(\"O\",\"$\")\n",
    "sn=s[0]+st\n",
    "print(\"New String is :\",sn)"
   ]
  },
  {
   "cell_type": "code",
   "execution_count": null,
   "id": "cb55b2b2",
   "metadata": {},
   "outputs": [],
   "source": []
  }
 ],
 "metadata": {
  "kernelspec": {
   "display_name": "Python 3 (ipykernel)",
   "language": "python",
   "name": "python3"
  },
  "language_info": {
   "codemirror_mode": {
    "name": "ipython",
    "version": 3
   },
   "file_extension": ".py",
   "mimetype": "text/x-python",
   "name": "python",
   "nbconvert_exporter": "python",
   "pygments_lexer": "ipython3",
   "version": "3.11.4"
  }
 },
 "nbformat": 4,
 "nbformat_minor": 5
}
