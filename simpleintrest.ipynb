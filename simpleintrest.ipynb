{
 "cells": [
  {
   "cell_type": "code",
   "execution_count": 1,
   "id": "f3ce4413",
   "metadata": {},
   "outputs": [
    {
     "name": "stdout",
     "output_type": "stream",
     "text": [
      "Enter a Principle amount:10000\n",
      "Number of year:5\n",
      "Rate of intrest:6\n",
      "Simple intrest 3000.0\n"
     ]
    }
   ],
   "source": [
    "p=int(input(\"Enter a Principle amount:\"))\n",
    "n=int(input(\"Number of year:\"))\n",
    "r=int(input(\"Rate of intrest:\"))\n",
    "si=p*n*r/100\n",
    "print(\"Simple intrest\",si)"
   ]
  },
  {
   "cell_type": "code",
   "execution_count": null,
   "id": "8a32c473",
   "metadata": {},
   "outputs": [],
   "source": []
  }
 ],
 "metadata": {
  "kernelspec": {
   "display_name": "Python 3 (ipykernel)",
   "language": "python",
   "name": "python3"
  },
  "language_info": {
   "codemirror_mode": {
    "name": "ipython",
    "version": 3
   },
   "file_extension": ".py",
   "mimetype": "text/x-python",
   "name": "python",
   "nbconvert_exporter": "python",
   "pygments_lexer": "ipython3",
   "version": "3.11.4"
  }
 },
 "nbformat": 4,
 "nbformat_minor": 5
}
