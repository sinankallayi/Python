{
 "cells": [
  {
   "cell_type": "code",
   "execution_count": 1,
   "id": "2c41ecc7",
   "metadata": {},
   "outputs": [
    {
     "name": "stdout",
     "output_type": "stream",
     "text": [
      "Biggest of two number\n",
      "Enter the first number5\n",
      "Enter the second number6\n",
      "Greatest number is  6\n"
     ]
    }
   ],
   "source": [
    "print(\"Biggest of two number\")\n",
    "a=int(input(\"Enter the first number\"))\n",
    "b=int(input(\"Enter the second number\"))\n",
    "if a<b:\n",
    "    print(\"Greatest number is \",b)\n",
    "else:\n",
    "    print(\"Greatest number is \",a)"
   ]
  },
  {
   "cell_type": "code",
   "execution_count": null,
   "id": "b4b48480",
   "metadata": {},
   "outputs": [],
   "source": []
  }
 ],
 "metadata": {
  "kernelspec": {
   "display_name": "Python 3 (ipykernel)",
   "language": "python",
   "name": "python3"
  },
  "language_info": {
   "codemirror_mode": {
    "name": "ipython",
    "version": 3
   },
   "file_extension": ".py",
   "mimetype": "text/x-python",
   "name": "python",
   "nbconvert_exporter": "python",
   "pygments_lexer": "ipython3",
   "version": "3.11.4"
  }
 },
 "nbformat": 4,
 "nbformat_minor": 5
}
