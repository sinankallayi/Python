{
 "cells": [
  {
   "cell_type": "code",
   "execution_count": 1,
   "id": "cb6289b5",
   "metadata": {},
   "outputs": [
    {
     "name": "stdout",
     "output_type": "stream",
     "text": [
      "Enter side of square:4\n",
      "area = 16\n"
     ]
    }
   ],
   "source": [
    "a=int(input(\"Enter side of square:\"))\n",
    "area=a*a\n",
    "print(\"area =\",area)"
   ]
  },
  {
   "cell_type": "code",
   "execution_count": null,
   "id": "81c9d0f6",
   "metadata": {},
   "outputs": [],
   "source": []
  }
 ],
 "metadata": {
  "kernelspec": {
   "display_name": "Python 3 (ipykernel)",
   "language": "python",
   "name": "python3"
  },
  "language_info": {
   "codemirror_mode": {
    "name": "ipython",
    "version": 3
   },
   "file_extension": ".py",
   "mimetype": "text/x-python",
   "name": "python",
   "nbconvert_exporter": "python",
   "pygments_lexer": "ipython3",
   "version": "3.11.4"
  }
 },
 "nbformat": 4,
 "nbformat_minor": 5
}
