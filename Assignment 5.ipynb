{
 "cells": [
  {
   "cell_type": "code",
   "execution_count": 5,
   "id": "0e182dae",
   "metadata": {},
   "outputs": [
    {
     "name": "stdout",
     "output_type": "stream",
     "text": [
      "Enter a number:0\n",
      "The given Number is Zero\n"
     ]
    }
   ],
   "source": [
    "#Positive,Negative and Zero\n",
    "n=int(input(\"Enter a number:\"))\n",
    "if(n>0):\n",
    "    print(\"The given Number is Positive\")\n",
    "elif(n==0):\n",
    "    print(\"The given Number is Zero\")\n",
    "else:\n",
    "    print(\"The given Number is Negative\")"
   ]
  },
  {
   "cell_type": "code",
   "execution_count": 3,
   "id": "3c40a1e5",
   "metadata": {},
   "outputs": [
    {
     "name": "stdout",
     "output_type": "stream",
     "text": [
      "Enter 1st number:12\n",
      "Enter 2nd number:2\n",
      "Enter 3rd number:5\n",
      "Greatest Number is 12\n"
     ]
    }
   ],
   "source": [
    "#Greatest of 3 Number\n",
    "a=int(input(\"Enter 1st number:\"))\n",
    "b=int(input(\"Enter 2nd number:\"))\n",
    "c=int(input(\"Enter 3rd number:\"))\n",
    "if(a>b and a>c):\n",
    "        print(\"Greatest Number is\",a)\n",
    "elif(b>a and b>c):\n",
    "    print(\"Greatest Number is\",b)\n",
    "else:\n",
    "    print(\"Greatest Number is\",c)"
   ]
  },
  {
   "cell_type": "code",
   "execution_count": 8,
   "id": "1c1bb952",
   "metadata": {},
   "outputs": [
    {
     "name": "stdout",
     "output_type": "stream",
     "text": [
      "Enter 1st number:12.4\n",
      "Enter 2nd number:6\n",
      "Enter your Choice\n",
      "1.Addition\n",
      "2.Substraction\n",
      "3.Multiplication\n",
      "4.Division\n",
      "Enter your Choice:3\n",
      "result is 74\n"
     ]
    }
   ],
   "source": [
    "#Simple Calculator\n",
    "num1=float(input(\"Enter 1st number:\"))\n",
    "num2=float(input(\"Enter 2nd number:\"))\n",
    "print(\"Enter your Choice\")\n",
    "print(\"1.Addition\")\n",
    "print(\"2.Substraction\")\n",
    "print(\"3.Multiplication\")\n",
    "print(\"4.Division\")\n",
    "choice=float(input(\"Enter your Choice:\"))\n",
    "if(choice==1):\n",
    "    print(\"result is\",round(num1+num2))\n",
    "elif(choice==2):\n",
    "    print(\"result is\",round(num1-num2))\n",
    "elif(choice==3):\n",
    "    print(\"result is\",round(num1*num2))\n",
    "elif(choice==4):\n",
    "    print(\"result is\",round(num1/num2))\n",
    "else:\n",
    "    print(\"Invalid\")\n",
    "    \n"
   ]
  },
  {
   "cell_type": "code",
   "execution_count": null,
   "id": "20e51040",
   "metadata": {},
   "outputs": [],
   "source": []
  }
 ],
 "metadata": {
  "kernelspec": {
   "display_name": "Python 3 (ipykernel)",
   "language": "python",
   "name": "python3"
  },
  "language_info": {
   "codemirror_mode": {
    "name": "ipython",
    "version": 3
   },
   "file_extension": ".py",
   "mimetype": "text/x-python",
   "name": "python",
   "nbconvert_exporter": "python",
   "pygments_lexer": "ipython3",
   "version": "3.11.4"
  }
 },
 "nbformat": 4,
 "nbformat_minor": 5
}
