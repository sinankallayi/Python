{
 "cells": [
  {
   "cell_type": "code",
   "execution_count": 1,
   "id": "d726db78",
   "metadata": {},
   "outputs": [
    {
     "name": "stdout",
     "output_type": "stream",
     "text": [
      "Enter height of rightangled triangle:5\n",
      "Enter breadth of rightangled triangle:6\n",
      "area = 15.0\n"
     ]
    }
   ],
   "source": [
    "h=int(input(\"Enter height of rightangled triangle:\"))\n",
    "b=int(input(\"Enter breadth of rightangled triangle:\"))\n",
    "area=(h*b)/2\n",
    "print(\"area =\",area)"
   ]
  },
  {
   "cell_type": "code",
   "execution_count": null,
   "id": "901e458b",
   "metadata": {},
   "outputs": [],
   "source": []
  }
 ],
 "metadata": {
  "kernelspec": {
   "display_name": "Python 3 (ipykernel)",
   "language": "python",
   "name": "python3"
  },
  "language_info": {
   "codemirror_mode": {
    "name": "ipython",
    "version": 3
   },
   "file_extension": ".py",
   "mimetype": "text/x-python",
   "name": "python",
   "nbconvert_exporter": "python",
   "pygments_lexer": "ipython3",
   "version": "3.11.4"
  }
 },
 "nbformat": 4,
 "nbformat_minor": 5
}
