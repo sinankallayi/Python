{
 "cells": [
  {
   "cell_type": "code",
   "execution_count": 1,
   "id": "2a49db96",
   "metadata": {},
   "outputs": [
    {
     "name": "stdout",
     "output_type": "stream",
     "text": [
      "Enter side of square:4\n",
      "area = 16\n"
     ]
    }
   ],
   "source": [
    "#Area of square\n",
    "a=int(input(\"Enter side of square:\"))\n",
    "area=a*a\n",
    "print(\"area =\",area)"
   ]
  },
  {
   "cell_type": "code",
   "execution_count": 2,
   "id": "ca2bf1f8",
   "metadata": {},
   "outputs": [
    {
     "name": "stdout",
     "output_type": "stream",
     "text": [
      "Enter height of rightangled triangle:5\n",
      "Enter breadth of rightangled triangle:6\n",
      "area = 15.0\n"
     ]
    }
   ],
   "source": [
    "#Area of triangle\n",
    "h=int(input(\"Enter height of rightangled triangle:\"))\n",
    "b=int(input(\"Enter breadth of rightangled triangle:\"))\n",
    "area=(h*b)/2\n",
    "print(\"area =\",area)"
   ]
  },
  {
   "cell_type": "code",
   "execution_count": 3,
   "id": "73415890",
   "metadata": {},
   "outputs": [
    {
     "name": "stdout",
     "output_type": "stream",
     "text": [
      "Enter the value of n:4\n",
      "4 + 44 + 444 = 492\n"
     ]
    }
   ],
   "source": [
    "#Compute number\n",
    "n=int(input(\"Enter the value of n:\"))\n",
    "i=n*10+n\n",
    "j=n*100+i\n",
    "sum=n+j+i\n",
    "print(n,\"+\",i,\"+\",j,\"=\",sum)"
   ]
  },
  {
   "cell_type": "code",
   "execution_count": 4,
   "id": "13d20a09",
   "metadata": {},
   "outputs": [
    {
     "name": "stdout",
     "output_type": "stream",
     "text": [
      "Enter a Interger number:5\n",
      "Number = 5\n",
      "Previous number = 4\n",
      "Next number = 6\n"
     ]
    }
   ],
   "source": [
    "#Previous and Next\n",
    "a=int(input(\"Enter a Interger number:\"))\n",
    "print(\"Number =\",a)\n",
    "prvnum=a-1\n",
    "nxtnum=a+1\n",
    "print(\"Previous number =\",prvnum)\n",
    "print(\"Next number =\",nxtnum)"
   ]
  },
  {
   "cell_type": "code",
   "execution_count": 5,
   "id": "0a1e4880",
   "metadata": {},
   "outputs": [
    {
     "name": "stdout",
     "output_type": "stream",
     "text": [
      "Enter a Principle amount:10000\n",
      "Number of year:5\n",
      "Rate of intrest:6\n",
      "Simple intrest 3000.0\n"
     ]
    }
   ],
   "source": [
    "#Simple intrest\n",
    "p=int(input(\"Enter a Principle amount:\"))\n",
    "n=int(input(\"Number of year:\"))\n",
    "r=int(input(\"Rate of intrest:\"))\n",
    "si=p*n*r/100\n",
    "print(\"Simple intrest\",si)"
   ]
  },
  {
   "cell_type": "code",
   "execution_count": null,
   "id": "809f25e4",
   "metadata": {},
   "outputs": [],
   "source": []
  }
 ],
 "metadata": {
  "kernelspec": {
   "display_name": "Python 3 (ipykernel)",
   "language": "python",
   "name": "python3"
  },
  "language_info": {
   "codemirror_mode": {
    "name": "ipython",
    "version": 3
   },
   "file_extension": ".py",
   "mimetype": "text/x-python",
   "name": "python",
   "nbconvert_exporter": "python",
   "pygments_lexer": "ipython3",
   "version": "3.11.4"
  }
 },
 "nbformat": 4,
 "nbformat_minor": 5
}
