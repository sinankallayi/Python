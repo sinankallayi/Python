{
 "cells": [
  {
   "cell_type": "code",
   "execution_count": 7,
   "id": "8b6cd1f3",
   "metadata": {},
   "outputs": [
    {
     "name": "stdout",
     "output_type": "stream",
     "text": [
      "Enter name: sinan\n",
      "Enter key value: 45\n",
      "Enter name: abhi\n",
      "Enter key value: 26\n",
      "Enter name: banu\n",
      "Enter key value: 17\n",
      "dictoinory= {'sinan': '45', 'abhi': '26', 'banu': '17'}\n",
      "Ascending order= {'abhi': '26', 'banu': '17', 'sinan': '45'}\n",
      "Descending order= {'sinan': '45', 'banu': '17', 'abhi': '26'}\n"
     ]
    }
   ],
   "source": [
    "#sorting in ascending and descending\n",
    "dic={}\n",
    "for i in range(3):\n",
    "    name = input(\"Enter name: \")\n",
    "    key = input(\"Enter key value: \")\n",
    "    dic[name] = key\n",
    "print(\"dictoinory=\",dic)\n",
    "ascend=sorted(dic.items())\n",
    "new_dict = dict(ascend)\n",
    "print(\"Ascending order=\",new_dict)\n",
    "\n",
    "\n",
    "descend = dict(sorted(dic.items(),  reverse = True))\n",
    "print(\"Descending order=\",descend)"
   ]
  },
  {
   "cell_type": "code",
   "execution_count": 8,
   "id": "1d0777a7",
   "metadata": {},
   "outputs": [
    {
     "name": "stdout",
     "output_type": "stream",
     "text": [
      "enter the name :sinan\n",
      "enter the age:22\n",
      "first dictionary is: {'name': 'sinan', 'age': '22'}\n",
      "enter the color:yellow\n",
      "enter the flower name:sun flower\n",
      "second dictionary is: {'color': 'yellow', 'flower': 'sun flower'}\n",
      "merge dictionary is {'name': 'sinan', 'age': '22', 'color': 'yellow', 'flower': 'sun flower'}\n"
     ]
    }
   ],
   "source": [
    "#merge dictionaries\n",
    "\n",
    "d1={}\n",
    "name=input(\"enter the name :\")\n",
    "age=input(\"enter the age:\")\n",
    "d1['name']=name\n",
    "d1['age']=age\n",
    "print(\"first dictionary is:\",d1)\n",
    "d2={}\n",
    "color=input(\"enter the color:\")\n",
    "flower=input(\"enter the flower name:\")\n",
    "d2['color']=color\n",
    "d2['flower']=flower\n",
    "print(\"second dictionary is:\",d2)\n",
    "d3=d1\n",
    "d1.update(d2)\n",
    "print(\"merge dictionary is\",d3)"
   ]
  },
  {
   "cell_type": "code",
   "execution_count": null,
   "id": "41ed92f2",
   "metadata": {},
   "outputs": [],
   "source": []
  },
  {
   "cell_type": "code",
   "execution_count": null,
   "id": "3a954cf6",
   "metadata": {},
   "outputs": [],
   "source": []
  },
  {
   "cell_type": "code",
   "execution_count": null,
   "id": "94b9b856",
   "metadata": {},
   "outputs": [],
   "source": []
  }
 ],
 "metadata": {
  "kernelspec": {
   "display_name": "Python 3 (ipykernel)",
   "language": "python",
   "name": "python3"
  },
  "language_info": {
   "codemirror_mode": {
    "name": "ipython",
    "version": 3
   },
   "file_extension": ".py",
   "mimetype": "text/x-python",
   "name": "python",
   "nbconvert_exporter": "python",
   "pygments_lexer": "ipython3",
   "version": "3.11.4"
  }
 },
 "nbformat": 4,
 "nbformat_minor": 5
}
