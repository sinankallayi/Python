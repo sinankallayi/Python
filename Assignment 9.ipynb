{
 "cells": [
  {
   "cell_type": "code",
   "execution_count": 5,
   "id": "8b6cd1f3",
   "metadata": {},
   "outputs": [
    {
     "name": "stdout",
     "output_type": "stream",
     "text": [
      "{'apple': 1, 'mango': 2, 'banana': 3, 'grape': 4}\n",
      "\n",
      " Ascending order is : [('apple', 1), ('banana', 3), ('grape', 4), ('mango', 2)]\n",
      "\n",
      " Descending order is : [('mango', 2), ('grape', 4), ('banana', 3), ('apple', 1)]\n"
     ]
    }
   ],
   "source": [
    "#Sort Dictonary\n",
    "dic={'apple':1,'mango':2,'banana':3,'grape':4}\n",
    "l=list(dic.items())\n",
    "print(dic)\n",
    "l.sort()\n",
    "print(\"\\n Ascending order is :\",l)\n",
    "l.sort(reverse=True)\n",
    "print(\"\\n Descending order is :\",l)"
   ]
  },
  {
   "cell_type": "code",
   "execution_count": 6,
   "id": "1d0777a7",
   "metadata": {},
   "outputs": [
    {
     "name": "stdout",
     "output_type": "stream",
     "text": [
      "list 1: {1: 'book', 2: 'pen', 3: 'computer'}\n",
      "list 2: {4: 'fan', 5: 'page', 6: 'mouse'}\n",
      "\n",
      " First Dictionary: {1: 'book', 2: 'pen', 3: 'computer'}\n",
      "\n",
      " Second Dictionary: {4: 'fan', 5: 'page', 6: 'mouse'}\n",
      "\n",
      " Merging 2 Dictionaries: {1: 'book', 2: 'pen', 3: 'computer', 4: 'fan', 5: 'page', 6: 'mouse'}\n"
     ]
    }
   ],
   "source": [
    "#Merge 2 dictionaries\n",
    "d1={1:'book',2:'pen',3:'computer'}\n",
    "d2={4:'fan',5:'page',6:'mouse'}\n",
    "print(\"list 1:\",d1)\n",
    "print(\"list 2:\",d2)\n",
    "print(\"\\n First Dictionary:\",d1)\n",
    "print(\"\\n Second Dictionary:\",d2)\n",
    "d3=d1\n",
    "d1.update(d2)\n",
    "print(\"\\n Merging 2 Dictionaries:\",d3)"
   ]
  },
  {
   "cell_type": "code",
   "execution_count": null,
   "id": "41ed92f2",
   "metadata": {},
   "outputs": [],
   "source": []
  }
 ],
 "metadata": {
  "kernelspec": {
   "display_name": "Python 3 (ipykernel)",
   "language": "python",
   "name": "python3"
  },
  "language_info": {
   "codemirror_mode": {
    "name": "ipython",
    "version": 3
   },
   "file_extension": ".py",
   "mimetype": "text/x-python",
   "name": "python",
   "nbconvert_exporter": "python",
   "pygments_lexer": "ipython3",
   "version": "3.11.4"
  }
 },
 "nbformat": 4,
 "nbformat_minor": 5
}
