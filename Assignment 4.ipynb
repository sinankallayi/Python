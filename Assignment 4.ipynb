{
 "cells": [
  {
   "cell_type": "code",
   "execution_count": 8,
   "id": "cf5a8546",
   "metadata": {},
   "outputs": [
    {
     "name": "stdout",
     "output_type": "stream",
     "text": [
      "Enter numbers:10,20,30,40\n",
      "List = ['10', '20', '30', '40']\n"
     ]
    }
   ],
   "source": [
    "#Create a List\n",
    "n=input(\"Enter numbers:\")\n",
    "p=n.split(\",\")\n",
    "print(\"List =\",p)"
   ]
  },
  {
   "cell_type": "code",
   "execution_count": 9,
   "id": "dd0ef202",
   "metadata": {},
   "outputs": [
    {
     "name": "stdout",
     "output_type": "stream",
     "text": [
      "Enter Color with comma seperation:Red,Yellow,Blue,Pink\n",
      "List= ['Red', 'Yellow', 'Blue', 'Pink']\n",
      "First Colour is : Red\n",
      "Last Colour is : Pink\n"
     ]
    }
   ],
   "source": [
    "#List of Colours\n",
    "n=input(\"Enter Color with comma seperation:\")\n",
    "p=n.split(\",\")\n",
    "print(\"List=\",p)\n",
    "print(\"First Colour is :\",p[0])\n",
    "print(\"Last Colour is :\",p[-1])"
   ]
  },
  {
   "cell_type": "code",
   "execution_count": 13,
   "id": "f5a0509d",
   "metadata": {},
   "outputs": [
    {
     "name": "stdout",
     "output_type": "stream",
     "text": [
      "Enter File name:abc.py\n",
      "List = py\n"
     ]
    }
   ],
   "source": [
    "#File Extention\n",
    "n=input(\"Enter File name:\")\n",
    "p=n.split(\".\")\n",
    "print(\"List =\",p[-1])"
   ]
  },
  {
   "cell_type": "code",
   "execution_count": null,
   "id": "98c56910",
   "metadata": {},
   "outputs": [],
   "source": []
  }
 ],
 "metadata": {
  "kernelspec": {
   "display_name": "Python 3 (ipykernel)",
   "language": "python",
   "name": "python3"
  },
  "language_info": {
   "codemirror_mode": {
    "name": "ipython",
    "version": 3
   },
   "file_extension": ".py",
   "mimetype": "text/x-python",
   "name": "python",
   "nbconvert_exporter": "python",
   "pygments_lexer": "ipython3",
   "version": "3.11.4"
  }
 },
 "nbformat": 4,
 "nbformat_minor": 5
}
